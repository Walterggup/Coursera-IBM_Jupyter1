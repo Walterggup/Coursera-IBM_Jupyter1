{
  "metadata": {
    "kernelspec": {
      "name": "python",
      "display_name": "Pyolite",
      "language": "python"
    },
    "language_info": {
      "codemirror_mode": {
        "name": "python",
        "version": 3
      },
      "file_extension": ".py",
      "mimetype": "text/x-python",
      "name": "python",
      "nbconvert_exporter": "python",
      "pygments_lexer": "ipython3",
      "version": "3.8"
    }
  },
  "nbformat_minor": 4,
  "nbformat": 4,
  "cells": [
    {
      "cell_type": "markdown",
      "source": "#My Jupyter Notebook on IBM Watson Studio",
      "metadata": {}
    },
    {
      "cell_type": "markdown",
      "source": "**My name is Walter and I want to be a business analyst.**",
      "metadata": {}
    },
    {
      "cell_type": "markdown",
      "source": "*I am interested in data science because I think it is interesting to see how you can find relationships between different variables.*",
      "metadata": {}
    },
    {
      "cell_type": "code",
      "source": "###below is a simple multiplation calculator that when ran will prompt two numbers to be inputted then they will be multiplied",
      "metadata": {
        "trusted": true
      },
      "execution_count": 1,
      "outputs": []
    },
    {
      "cell_type": "code",
      "source": "test = input(\"Enter a number \")\ntest1 = input(\"what do you want to multiply it by? \")\nanswer = test * test1\nprint(\"Answer:\"+ answer)",
      "metadata": {},
      "execution_count": null,
      "outputs": []
    },
    {
      "cell_type": "markdown",
      "source": "hi\n- - -\nbye\n\n\n* bullet 1\n* bullet 2\n* bullet 3\n\n`Have a good day!`\n",
      "metadata": {}
    }
  ]
}